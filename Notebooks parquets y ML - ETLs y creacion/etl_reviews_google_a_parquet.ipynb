version https://git-lfs.github.com/spec/v1
oid sha256:c010d2e2f80574d249ec6d66b6b1692db382466627e6d6978f950536781a4325
size 21680
